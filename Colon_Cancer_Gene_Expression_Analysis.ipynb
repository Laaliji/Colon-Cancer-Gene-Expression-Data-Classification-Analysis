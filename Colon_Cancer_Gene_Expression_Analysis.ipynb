{
  "nbformat": 4,
  "nbformat_minor": 0,
  "metadata": {
    "colab": {
      "provenance": [],
      "authorship_tag": "ABX9TyNcfk/J2Tuy5VmG/tq5GoXl",
      "include_colab_link": true
    },
    "kernelspec": {
      "name": "python3",
      "display_name": "Python 3"
    },
    "language_info": {
      "name": "python"
    }
  },
  "cells": [
    {
      "cell_type": "markdown",
      "metadata": {
        "id": "view-in-github",
        "colab_type": "text"
      },
      "source": [
        "<a href=\"https://colab.research.google.com/github/Laaliji/Colon-Cancer-Gene-Expression-Data-Classification-Analysis/blob/main/Colon_Cancer_Gene_Expression_Analysis.ipynb\" target=\"_parent\"><img src=\"https://colab.research.google.com/assets/colab-badge.svg\" alt=\"Open In Colab\"/></a>"
      ]
    },
    {
      "cell_type": "markdown",
      "source": [
        "# **Analysis of Colon Cancer Gene Expression Activity**"
      ],
      "metadata": {
        "id": "MQuvRxlcD2Pf"
      }
    },
    {
      "cell_type": "markdown",
      "source": [
        "Colon cancer remains a major global health challenge, requiring precise diagnostic tools. Gene expression profiling, combined with machine learning, enables the identification of cancer biomarkers. This project analyzes the \"Gene Expression of Colon Cancer\" dataset (60 genes) to:\n",
        "1. Compare five models—logistic regression, SVM, k-NN, decision tree, and random forest—for classification.\n",
        "2. Identify influential genes based on each model’s mechanism (e.g., coefficients, feature importance).\n",
        "3. Conduct a comparative analysis to determine the best prediction for a new patient.\n",
        "\n",
        "Results will support an article for Nordic Machine Intelligence (NMI) journal.\n",
        "\n",
        "*   **Supervision:** Dr. O. BANOUAR, Faculty of Sciences and Techniques, Cadi Ayyad University, Marrakech.\n",
        "*   **Realized by:** Zakariae LAALIJI.\n",
        "\n"
      ],
      "metadata": {
        "id": "WqNNuJ44bNLc"
      }
    },
    {
      "cell_type": "markdown",
      "source": [
        "## **Libraries and Configurations**"
      ],
      "metadata": {
        "id": "V3dcFdNncqUE"
      }
    },
    {
      "cell_type": "markdown",
      "source": [
        "This section imports the necessary Python libraries and configures the environment for analyzing the \"Gene Expression of Colon Cancer\" dataset. Libraries such as pandas, scikit-learn, and matplotlib are used for data processing, machine learning, and visualization, enabling model training, gene importance analysis, and comparative evaluation. Configurations ensure reproducibility and consistency throughout the analysis."
      ],
      "metadata": {
        "id": "3Se4cbhBcupt"
      }
    },
    {
      "cell_type": "code",
      "source": [
        "from google.colab import drive # Import the necessary library for Google Drive integration\n",
        "drive.mount('/content/drive') # Mount your Google Drive to the '/content/drive' directory"
      ],
      "metadata": {
        "colab": {
          "base_uri": "https://localhost:8080/"
        },
        "id": "pbq0qYEfczjY",
        "outputId": "45917103-eb4c-4cb3-ac1e-0ffe32e88b84"
      },
      "execution_count": 1,
      "outputs": [
        {
          "output_type": "stream",
          "name": "stdout",
          "text": [
            "Mounted at /content/drive\n"
          ]
        }
      ]
    },
    {
      "cell_type": "code",
      "source": [
        "import os #for operating system related tasks\n",
        "\n",
        "# Specifying the path\n",
        "datasets_folder_path = '/content/drive/My Drive/Datasets_For_Research'\n",
        "\n",
        "# Printing the contents of the 'Datasets_For_Research' folder\n",
        "print(os.listdir(datasets_folder_path))  # to list files and directories"
      ],
      "metadata": {
        "colab": {
          "base_uri": "https://localhost:8080/"
        },
        "id": "XxubMB6-dTsn",
        "outputId": "be92a6f7-dd92-4d44-8ee9-e2434e048a0b"
      },
      "execution_count": 5,
      "outputs": [
        {
          "output_type": "stream",
          "name": "stdout",
          "text": [
            "['colon_cancer.csv']\n"
          ]
        }
      ]
    },
    {
      "cell_type": "code",
      "execution_count": 6,
      "metadata": {
        "id": "TsBnZ5VPDmAY"
      },
      "outputs": [],
      "source": [
        "import pandas as pd # For data manipulation and analysis using DataFrames\n",
        "from sklearn.model_selection import train_test_split # For splitting data into training and testing sets\n",
        "from sklearn.preprocessing import StandardScaler # For feature scaling (standardization)\n",
        "from sklearn.linear_model import LogisticRegression # For logistic regression model\n",
        "from sklearn.neighbors import KNeighborsClassifier # For k-nearest neighbors model\n",
        "from sklearn.inspection import DecisionBoundaryDisplay # For visualizing decision boundaries\n",
        "from sklearn.metrics import accuracy_score, confusion_matrix, classification_report # For model evaluation metrics\n",
        "from sklearn.model_selection import cross_val_score # For cross-validation\n",
        "from sklearn.svm import SVC # For Support Vector Machine model\n",
        "import seaborn as sns # For data visualization\n",
        "import numpy as np # For numerical computations\n",
        "import matplotlib.pyplot as plt # For plotting graphs"
      ]
    },
    {
      "cell_type": "markdown",
      "source": [
        "## **Data preparation**"
      ],
      "metadata": {
        "id": "4D-EKbpneCbc"
      }
    },
    {
      "cell_type": "markdown",
      "source": [
        "This section prepares the \"Gene Expression of Colon Cancer\" dataset for analysis. Tasks include loading the dataset, handling missing values, standardizing the 60 gene expression features, and splitting the data into training and test sets. These steps ensure the data is clean, consistent, and ready for training machine learning models and evaluating gene importance."
      ],
      "metadata": {
        "id": "QVE2RIUDePM6"
      }
    },
    {
      "cell_type": "code",
      "source": [],
      "metadata": {
        "id": "6ENlac_7eOvI"
      },
      "execution_count": null,
      "outputs": []
    }
  ]
}